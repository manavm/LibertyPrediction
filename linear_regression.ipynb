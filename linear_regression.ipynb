{
 "cells": [
  {
   "cell_type": "code",
   "execution_count": 17,
   "metadata": {
    "collapsed": true
   },
   "outputs": [],
   "source": [
    "import pandas as pd\n",
    "import numpy as np\n",
    "import matplotlib.pyplot as plt\n",
    "\n",
    "from sklearn import linear_model\n",
    "from sklearn.cross_validation import train_test_split"
   ]
  },
  {
   "cell_type": "code",
   "execution_count": 18,
   "metadata": {
    "collapsed": false
   },
   "outputs": [],
   "source": [
    "def gini(solution, submission):\n",
    "    df = zip(solution, submission)\n",
    "    df = sorted(df, key=lambda x: (x[1],x[0]), reverse=True)\n",
    "    rand = [float(i+1)/float(len(df)) for i in range(len(df))]\n",
    "    totalPos = float(sum([x[0] for x in df]))\n",
    "    cumPosFound = [df[0][0]]\n",
    "    for i in range(1,len(df)):\n",
    "        cumPosFound.append(cumPosFound[len(cumPosFound)-1] + df[i][0])\n",
    "    Lorentz = [float(x)/totalPos for x in cumPosFound]\n",
    "    Gini = [Lorentz[i]-rand[i] for i in range(len(df))]\n",
    "    return sum(Gini)\n",
    "\n",
    "def normalized_gini(solution, submission):\n",
    "    solution=np.array(solution)\n",
    "    submission=np.array(submission)\n",
    "    normalized_gini = gini(solution, submission)/gini(solution, solution)\n",
    "    return normalized_gini"
   ]
  },
  {
   "cell_type": "code",
   "execution_count": 55,
   "metadata": {
    "collapsed": false
   },
   "outputs": [],
   "source": [
    "train_df = pd.read_csv(\"data/train.csv\", index_col=0)\n",
    "test_df = pd.read_csv(\"data/test.csv\", index_col=0)"
   ]
  },
  {
   "cell_type": "code",
   "execution_count": 20,
   "metadata": {
    "collapsed": false
   },
   "outputs": [
    {
     "data": {
      "text/html": [
       "<div style=\"max-height:1000px;max-width:1500px;overflow:auto;\">\n",
       "<table border=\"1\" class=\"dataframe\">\n",
       "  <thead>\n",
       "    <tr style=\"text-align: right;\">\n",
       "      <th></th>\n",
       "      <th>Id</th>\n",
       "      <th>Hazard</th>\n",
       "      <th>T1_V1</th>\n",
       "      <th>T1_V2</th>\n",
       "      <th>T1_V3</th>\n",
       "      <th>T1_V4</th>\n",
       "      <th>T1_V5</th>\n",
       "      <th>T1_V6</th>\n",
       "      <th>T1_V7</th>\n",
       "      <th>T1_V8</th>\n",
       "      <th>...</th>\n",
       "      <th>T2_V6</th>\n",
       "      <th>T2_V7</th>\n",
       "      <th>T2_V8</th>\n",
       "      <th>T2_V9</th>\n",
       "      <th>T2_V10</th>\n",
       "      <th>T2_V11</th>\n",
       "      <th>T2_V12</th>\n",
       "      <th>T2_V13</th>\n",
       "      <th>T2_V14</th>\n",
       "      <th>T2_V15</th>\n",
       "    </tr>\n",
       "  </thead>\n",
       "  <tbody>\n",
       "    <tr>\n",
       "      <th>0</th>\n",
       "      <td> 1</td>\n",
       "      <td> 1</td>\n",
       "      <td> 15</td>\n",
       "      <td>  3</td>\n",
       "      <td> 2</td>\n",
       "      <td> N</td>\n",
       "      <td> B</td>\n",
       "      <td> N</td>\n",
       "      <td> B</td>\n",
       "      <td> B</td>\n",
       "      <td>...</td>\n",
       "      <td> 2</td>\n",
       "      <td> 37</td>\n",
       "      <td> 1</td>\n",
       "      <td> 11</td>\n",
       "      <td> 6</td>\n",
       "      <td> Y</td>\n",
       "      <td> N</td>\n",
       "      <td> E</td>\n",
       "      <td> 2</td>\n",
       "      <td> 2</td>\n",
       "    </tr>\n",
       "    <tr>\n",
       "      <th>1</th>\n",
       "      <td> 2</td>\n",
       "      <td> 4</td>\n",
       "      <td> 16</td>\n",
       "      <td> 14</td>\n",
       "      <td> 5</td>\n",
       "      <td> H</td>\n",
       "      <td> B</td>\n",
       "      <td> N</td>\n",
       "      <td> B</td>\n",
       "      <td> B</td>\n",
       "      <td>...</td>\n",
       "      <td> 2</td>\n",
       "      <td> 22</td>\n",
       "      <td> 1</td>\n",
       "      <td> 18</td>\n",
       "      <td> 5</td>\n",
       "      <td> Y</td>\n",
       "      <td> Y</td>\n",
       "      <td> E</td>\n",
       "      <td> 2</td>\n",
       "      <td> 1</td>\n",
       "    </tr>\n",
       "    <tr>\n",
       "      <th>2</th>\n",
       "      <td> 3</td>\n",
       "      <td> 1</td>\n",
       "      <td> 10</td>\n",
       "      <td> 10</td>\n",
       "      <td> 5</td>\n",
       "      <td> N</td>\n",
       "      <td> K</td>\n",
       "      <td> N</td>\n",
       "      <td> B</td>\n",
       "      <td> B</td>\n",
       "      <td>...</td>\n",
       "      <td> 6</td>\n",
       "      <td> 37</td>\n",
       "      <td> 2</td>\n",
       "      <td> 14</td>\n",
       "      <td> 6</td>\n",
       "      <td> Y</td>\n",
       "      <td> Y</td>\n",
       "      <td> E</td>\n",
       "      <td> 6</td>\n",
       "      <td> 1</td>\n",
       "    </tr>\n",
       "    <tr>\n",
       "      <th>3</th>\n",
       "      <td> 4</td>\n",
       "      <td> 1</td>\n",
       "      <td> 18</td>\n",
       "      <td> 18</td>\n",
       "      <td> 5</td>\n",
       "      <td> N</td>\n",
       "      <td> K</td>\n",
       "      <td> N</td>\n",
       "      <td> B</td>\n",
       "      <td> B</td>\n",
       "      <td>...</td>\n",
       "      <td> 2</td>\n",
       "      <td> 25</td>\n",
       "      <td> 1</td>\n",
       "      <td>  1</td>\n",
       "      <td> 6</td>\n",
       "      <td> Y</td>\n",
       "      <td> N</td>\n",
       "      <td> C</td>\n",
       "      <td> 2</td>\n",
       "      <td> 6</td>\n",
       "    </tr>\n",
       "    <tr>\n",
       "      <th>4</th>\n",
       "      <td> 5</td>\n",
       "      <td> 1</td>\n",
       "      <td> 13</td>\n",
       "      <td> 19</td>\n",
       "      <td> 5</td>\n",
       "      <td> N</td>\n",
       "      <td> H</td>\n",
       "      <td> N</td>\n",
       "      <td> B</td>\n",
       "      <td> B</td>\n",
       "      <td>...</td>\n",
       "      <td> 1</td>\n",
       "      <td> 22</td>\n",
       "      <td> 1</td>\n",
       "      <td>  2</td>\n",
       "      <td> 7</td>\n",
       "      <td> N</td>\n",
       "      <td> N</td>\n",
       "      <td> E</td>\n",
       "      <td> 1</td>\n",
       "      <td> 1</td>\n",
       "    </tr>\n",
       "  </tbody>\n",
       "</table>\n",
       "<p>5 rows × 34 columns</p>\n",
       "</div>"
      ],
      "text/plain": [
       "   Id  Hazard  T1_V1  T1_V2  T1_V3 T1_V4 T1_V5 T1_V6 T1_V7 T1_V8   ...    \\\n",
       "0   1       1     15      3      2     N     B     N     B     B   ...     \n",
       "1   2       4     16     14      5     H     B     N     B     B   ...     \n",
       "2   3       1     10     10      5     N     K     N     B     B   ...     \n",
       "3   4       1     18     18      5     N     K     N     B     B   ...     \n",
       "4   5       1     13     19      5     N     H     N     B     B   ...     \n",
       "\n",
       "  T2_V6  T2_V7 T2_V8 T2_V9  T2_V10  T2_V11 T2_V12 T2_V13 T2_V14  T2_V15  \n",
       "0     2     37     1    11       6       Y      N      E      2       2  \n",
       "1     2     22     1    18       5       Y      Y      E      2       1  \n",
       "2     6     37     2    14       6       Y      Y      E      6       1  \n",
       "3     2     25     1     1       6       Y      N      C      2       6  \n",
       "4     1     22     1     2       7       N      N      E      1       1  \n",
       "\n",
       "[5 rows x 34 columns]"
      ]
     },
     "execution_count": 20,
     "metadata": {},
     "output_type": "execute_result"
    }
   ],
   "source": [
    "train_df.head()"
   ]
  },
  {
   "cell_type": "code",
   "execution_count": 36,
   "metadata": {
    "collapsed": false
   },
   "outputs": [
    {
     "data": {
      "text/html": [
       "<div style=\"max-height:1000px;max-width:1500px;overflow:auto;\">\n",
       "<table border=\"1\" class=\"dataframe\">\n",
       "  <thead>\n",
       "    <tr style=\"text-align: right;\">\n",
       "      <th></th>\n",
       "      <th>Id</th>\n",
       "      <th>T1_V1</th>\n",
       "      <th>T1_V2</th>\n",
       "      <th>T1_V3</th>\n",
       "      <th>T1_V10</th>\n",
       "      <th>T1_V13</th>\n",
       "      <th>T1_V14</th>\n",
       "      <th>T2_V1</th>\n",
       "      <th>T2_V2</th>\n",
       "      <th>T2_V4</th>\n",
       "      <th>T2_V6</th>\n",
       "      <th>T2_V7</th>\n",
       "      <th>T2_V8</th>\n",
       "      <th>T2_V9</th>\n",
       "      <th>T2_V10</th>\n",
       "      <th>T2_V14</th>\n",
       "      <th>T2_V15</th>\n",
       "    </tr>\n",
       "  </thead>\n",
       "  <tbody>\n",
       "    <tr>\n",
       "      <th>count</th>\n",
       "      <td>  51000.000000</td>\n",
       "      <td> 51000.000000</td>\n",
       "      <td> 51000.000000</td>\n",
       "      <td> 51000.000000</td>\n",
       "      <td> 51000.000000</td>\n",
       "      <td> 51000.000000</td>\n",
       "      <td> 51000.000000</td>\n",
       "      <td> 51000.000000</td>\n",
       "      <td> 51000.000000</td>\n",
       "      <td> 51000.000000</td>\n",
       "      <td> 51000.000000</td>\n",
       "      <td> 51000.000000</td>\n",
       "      <td> 51000.000000</td>\n",
       "      <td> 51000.000000</td>\n",
       "      <td> 51000.000000</td>\n",
       "      <td> 51000.000000</td>\n",
       "      <td> 51000.000000</td>\n",
       "    </tr>\n",
       "    <tr>\n",
       "      <th>mean</th>\n",
       "      <td>  51070.270725</td>\n",
       "      <td>     9.711294</td>\n",
       "      <td>    12.884667</td>\n",
       "      <td>     3.191059</td>\n",
       "      <td>     7.049843</td>\n",
       "      <td>    13.992451</td>\n",
       "      <td>     1.584314</td>\n",
       "      <td>    57.699647</td>\n",
       "      <td>    12.450843</td>\n",
       "      <td>    10.220510</td>\n",
       "      <td>     1.952020</td>\n",
       "      <td>    33.488765</td>\n",
       "      <td>     1.032686</td>\n",
       "      <td>    12.509745</td>\n",
       "      <td>     4.482784</td>\n",
       "      <td>     2.455412</td>\n",
       "      <td>     3.482608</td>\n",
       "    </tr>\n",
       "    <tr>\n",
       "      <th>std</th>\n",
       "      <td>  29574.299063</td>\n",
       "      <td>     5.171077</td>\n",
       "      <td>     6.230218</td>\n",
       "      <td>     1.739954</td>\n",
       "      <td>     3.592225</td>\n",
       "      <td>     4.661216</td>\n",
       "      <td>     0.864759</td>\n",
       "      <td>    23.488590</td>\n",
       "      <td>     4.821524</td>\n",
       "      <td>     4.843046</td>\n",
       "      <td>     0.792789</td>\n",
       "      <td>     5.818182</td>\n",
       "      <td>     0.193955</td>\n",
       "      <td>     7.329020</td>\n",
       "      <td>     1.894225</td>\n",
       "      <td>     1.255015</td>\n",
       "      <td>     3.065520</td>\n",
       "    </tr>\n",
       "    <tr>\n",
       "      <th>min</th>\n",
       "      <td>      6.000000</td>\n",
       "      <td>     1.000000</td>\n",
       "      <td>     1.000000</td>\n",
       "      <td>     1.000000</td>\n",
       "      <td>     2.000000</td>\n",
       "      <td>     5.000000</td>\n",
       "      <td>     0.000000</td>\n",
       "      <td>     1.000000</td>\n",
       "      <td>     1.000000</td>\n",
       "      <td>     1.000000</td>\n",
       "      <td>     1.000000</td>\n",
       "      <td>    22.000000</td>\n",
       "      <td>     1.000000</td>\n",
       "      <td>     1.000000</td>\n",
       "      <td>     1.000000</td>\n",
       "      <td>     1.000000</td>\n",
       "      <td>     1.000000</td>\n",
       "    </tr>\n",
       "    <tr>\n",
       "      <th>25%</th>\n",
       "      <td>  25336.750000</td>\n",
       "      <td>     6.000000</td>\n",
       "      <td>     7.000000</td>\n",
       "      <td>     2.000000</td>\n",
       "      <td>     3.000000</td>\n",
       "      <td>    10.000000</td>\n",
       "      <td>     1.000000</td>\n",
       "      <td>    40.000000</td>\n",
       "      <td>     9.000000</td>\n",
       "      <td>     6.000000</td>\n",
       "      <td>     2.000000</td>\n",
       "      <td>    31.000000</td>\n",
       "      <td>     1.000000</td>\n",
       "      <td>     6.000000</td>\n",
       "      <td>     3.000000</td>\n",
       "      <td>     2.000000</td>\n",
       "      <td>     1.000000</td>\n",
       "    </tr>\n",
       "    <tr>\n",
       "      <th>50%</th>\n",
       "      <td>  51023.500000</td>\n",
       "      <td>     9.000000</td>\n",
       "      <td>    14.000000</td>\n",
       "      <td>     3.000000</td>\n",
       "      <td>     8.000000</td>\n",
       "      <td>    15.000000</td>\n",
       "      <td>     1.000000</td>\n",
       "      <td>    56.000000</td>\n",
       "      <td>    11.000000</td>\n",
       "      <td>    10.000000</td>\n",
       "      <td>     2.000000</td>\n",
       "      <td>    34.000000</td>\n",
       "      <td>     1.000000</td>\n",
       "      <td>    14.000000</td>\n",
       "      <td>     4.000000</td>\n",
       "      <td>     2.000000</td>\n",
       "      <td>     2.000000</td>\n",
       "    </tr>\n",
       "    <tr>\n",
       "      <th>75%</th>\n",
       "      <td>  76730.250000</td>\n",
       "      <td>    14.000000</td>\n",
       "      <td>    18.000000</td>\n",
       "      <td>     4.000000</td>\n",
       "      <td>    12.000000</td>\n",
       "      <td>    20.000000</td>\n",
       "      <td>     2.000000</td>\n",
       "      <td>    78.000000</td>\n",
       "      <td>    15.000000</td>\n",
       "      <td>    14.000000</td>\n",
       "      <td>     2.000000</td>\n",
       "      <td>    40.000000</td>\n",
       "      <td>     1.000000</td>\n",
       "      <td>    18.000000</td>\n",
       "      <td>     6.000000</td>\n",
       "      <td>     3.000000</td>\n",
       "      <td>     5.000000</td>\n",
       "    </tr>\n",
       "    <tr>\n",
       "      <th>max</th>\n",
       "      <td> 101997.000000</td>\n",
       "      <td>    19.000000</td>\n",
       "      <td>    24.000000</td>\n",
       "      <td>     9.000000</td>\n",
       "      <td>    12.000000</td>\n",
       "      <td>    20.000000</td>\n",
       "      <td>     4.000000</td>\n",
       "      <td>   100.000000</td>\n",
       "      <td>    39.000000</td>\n",
       "      <td>    22.000000</td>\n",
       "      <td>     7.000000</td>\n",
       "      <td>    40.000000</td>\n",
       "      <td>     3.000000</td>\n",
       "      <td>    25.000000</td>\n",
       "      <td>     7.000000</td>\n",
       "      <td>     7.000000</td>\n",
       "      <td>    12.000000</td>\n",
       "    </tr>\n",
       "  </tbody>\n",
       "</table>\n",
       "</div>"
      ],
      "text/plain": [
       "                  Id         T1_V1         T1_V2         T1_V3        T1_V10  \\\n",
       "count   51000.000000  51000.000000  51000.000000  51000.000000  51000.000000   \n",
       "mean    51070.270725      9.711294     12.884667      3.191059      7.049843   \n",
       "std     29574.299063      5.171077      6.230218      1.739954      3.592225   \n",
       "min         6.000000      1.000000      1.000000      1.000000      2.000000   \n",
       "25%     25336.750000      6.000000      7.000000      2.000000      3.000000   \n",
       "50%     51023.500000      9.000000     14.000000      3.000000      8.000000   \n",
       "75%     76730.250000     14.000000     18.000000      4.000000     12.000000   \n",
       "max    101997.000000     19.000000     24.000000      9.000000     12.000000   \n",
       "\n",
       "             T1_V13        T1_V14         T2_V1         T2_V2         T2_V4  \\\n",
       "count  51000.000000  51000.000000  51000.000000  51000.000000  51000.000000   \n",
       "mean      13.992451      1.584314     57.699647     12.450843     10.220510   \n",
       "std        4.661216      0.864759     23.488590      4.821524      4.843046   \n",
       "min        5.000000      0.000000      1.000000      1.000000      1.000000   \n",
       "25%       10.000000      1.000000     40.000000      9.000000      6.000000   \n",
       "50%       15.000000      1.000000     56.000000     11.000000     10.000000   \n",
       "75%       20.000000      2.000000     78.000000     15.000000     14.000000   \n",
       "max       20.000000      4.000000    100.000000     39.000000     22.000000   \n",
       "\n",
       "              T2_V6         T2_V7         T2_V8         T2_V9        T2_V10  \\\n",
       "count  51000.000000  51000.000000  51000.000000  51000.000000  51000.000000   \n",
       "mean       1.952020     33.488765      1.032686     12.509745      4.482784   \n",
       "std        0.792789      5.818182      0.193955      7.329020      1.894225   \n",
       "min        1.000000     22.000000      1.000000      1.000000      1.000000   \n",
       "25%        2.000000     31.000000      1.000000      6.000000      3.000000   \n",
       "50%        2.000000     34.000000      1.000000     14.000000      4.000000   \n",
       "75%        2.000000     40.000000      1.000000     18.000000      6.000000   \n",
       "max        7.000000     40.000000      3.000000     25.000000      7.000000   \n",
       "\n",
       "             T2_V14        T2_V15  \n",
       "count  51000.000000  51000.000000  \n",
       "mean       2.455412      3.482608  \n",
       "std        1.255015      3.065520  \n",
       "min        1.000000      1.000000  \n",
       "25%        2.000000      1.000000  \n",
       "50%        2.000000      2.000000  \n",
       "75%        3.000000      5.000000  \n",
       "max        7.000000     12.000000  "
      ]
     },
     "execution_count": 36,
     "metadata": {},
     "output_type": "execute_result"
    }
   ],
   "source": [
    "test_df.describe()"
   ]
  },
  {
   "cell_type": "code",
   "execution_count": 22,
   "metadata": {
    "collapsed": false
   },
   "outputs": [
    {
     "data": {
      "text/plain": [
       "0"
      ]
     },
     "execution_count": 22,
     "metadata": {},
     "output_type": "execute_result"
    }
   ],
   "source": [
    "# Check if there's any NaN values in the dataframe\n",
    "train_df.isnull().values.sum()"
   ]
  },
  {
   "cell_type": "code",
   "execution_count": 23,
   "metadata": {
    "collapsed": false
   },
   "outputs": [],
   "source": [
    "labels = train_df.Hazard"
   ]
  },
  {
   "cell_type": "code",
   "execution_count": 35,
   "metadata": {
    "collapsed": false
   },
   "outputs": [],
   "source": [
    "insurance_X_train = train_df.ix[:,[\"T1_V%d\" % i for i in [1,2,3,10,13,14]] + [\"T2_V%d\" % j for j in [1,2,4,6,7,8,9,10,14,15]]].values\n",
    "insurance_Y_train = train_df.Hazard\n",
    "insurance_X_test = test_df.ix[:,[\"T1_V%d\" % i for i in [1,2,3,10,13,14]] + [\"T2_V%d\" % j for j in [1,2,4,6,7,8,9,10,14,15]]].values"
   ]
  },
  {
   "cell_type": "code",
   "execution_count": 25,
   "metadata": {
    "collapsed": false
   },
   "outputs": [],
   "source": [
    "train_x, test_x, train_y, test_y = train_test_split(insurance_X_train, insurance_Y_train, test_size=.2)"
   ]
  },
  {
   "cell_type": "code",
   "execution_count": 26,
   "metadata": {
    "collapsed": false
   },
   "outputs": [
    {
     "data": {
      "text/plain": [
       "LinearRegression(copy_X=True, fit_intercept=True, normalize=False)"
      ]
     },
     "execution_count": 26,
     "metadata": {},
     "output_type": "execute_result"
    }
   ],
   "source": [
    "clf = linear_model.LinearRegression()\n",
    "clf.fit(train_x, train_y)"
   ]
  },
  {
   "cell_type": "code",
   "execution_count": 27,
   "metadata": {
    "collapsed": false
   },
   "outputs": [],
   "source": [
    "predictor_test = clf.predict(test_x)\n",
    "predictor_train = clf.predict(train_x)"
   ]
  },
  {
   "cell_type": "code",
   "execution_count": 28,
   "metadata": {
    "collapsed": false
   },
   "outputs": [
    {
     "name": "stdout",
     "output_type": "stream",
     "text": [
      "[ 4.1774566   3.68994828  5.20781928  5.42888019  3.52642517]\n",
      "[ 2.71205837  4.71421743  4.446244    3.32614483  4.95278783]\n"
     ]
    }
   ],
   "source": [
    "print predictor_test[:5]\n",
    "print predictor_train[:5]"
   ]
  },
  {
   "cell_type": "code",
   "execution_count": 29,
   "metadata": {
    "collapsed": false
   },
   "outputs": [
    {
     "name": "stdout",
     "output_type": "stream",
     "text": [
      "0.206626066993\n",
      "0.18415880745\n"
     ]
    }
   ],
   "source": [
    "print normalized_gini(train_y, predictor_train)\n",
    "print normalized_gini(test_y, predictor_test)"
   ]
  },
  {
   "cell_type": "markdown",
   "metadata": {
    "collapsed": true
   },
   "source": [
    "### Using Linear Regression\n",
    "\n",
    "Normalized Gini on train data: 0.206626066993 \n",
    "Normalized Gini on test data: 0.18415880745 "
   ]
  },
  {
   "cell_type": "code",
   "execution_count": 52,
   "metadata": {
    "collapsed": false
   },
   "outputs": [
    {
     "name": "stdout",
     "output_type": "stream",
     "text": [
      "Int64Index([6, 7, 8, 9, 10, 11, 13, 14, 16, 17, 18, 20, 27, 28, 29, 30, 34, 35, 36, 37, 38, 40, 42, 46, 47, 48, 49, 51, 52, 53, 54, 55, 56, 57, 60, 61, 64, 65, 66, 68, 70, 71, 75, 76, 78, 80, 81, 82, 83, 85, 86, 87, 89, 90, 91, 92, 95, 97, 99, 101, 102, 103, 104, 107, 108, 111, 112, 115, 119, 121, 124, 128, 130, 131, 133, 134, 137, 138, 142, 143, 144, 145, 147, 148, 152, 154, 158, 159, 160, 161, 164, 165, 166, 167, 169, 170, 171, 175, 177, 178, ...], dtype='int64')\n"
     ]
    }
   ],
   "source": [
    "predictors = clf.predict(insurance_X_test)\n",
    "test_ind = test_df.index\n",
    "print test_ind"
   ]
  },
  {
   "cell_type": "code",
   "execution_count": 53,
   "metadata": {
    "collapsed": false
   },
   "outputs": [
    {
     "name": "stdout",
     "output_type": "stream",
     "text": [
      "51000\n",
      "51000\n"
     ]
    }
   ],
   "source": [
    "print len(predictors)\n",
    "print len(test_ind)"
   ]
  },
  {
   "cell_type": "code",
   "execution_count": 54,
   "metadata": {
    "collapsed": false
   },
   "outputs": [],
   "source": [
    "preds = pd.DataFrame({\"Id\": test_ind, \"Hazard\": predictors})\n",
    "preds = preds.set_index('Id')\n",
    "preds.to_csv('linregression_benchmark.csv')"
   ]
  },
  {
   "cell_type": "code",
   "execution_count": null,
   "metadata": {
    "collapsed": true
   },
   "outputs": [],
   "source": []
  }
 ],
 "metadata": {
  "kernelspec": {
   "display_name": "Python 2",
   "language": "python",
   "name": "python2"
  },
  "language_info": {
   "codemirror_mode": {
    "name": "ipython",
    "version": 2
   },
   "file_extension": ".py",
   "mimetype": "text/x-python",
   "name": "python",
   "nbconvert_exporter": "python",
   "pygments_lexer": "ipython2",
   "version": "2.7.9"
  }
 },
 "nbformat": 4,
 "nbformat_minor": 0
}
