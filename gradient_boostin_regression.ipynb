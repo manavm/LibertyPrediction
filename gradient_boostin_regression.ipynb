{
 "cells": [
  {
   "cell_type": "code",
   "execution_count": 1,
   "metadata": {
    "collapsed": false
   },
   "outputs": [],
   "source": [
    "import pandas as pd\n",
    "import numpy as np\n",
    "import matplotlib.pyplot as plt\n",
    "\n",
    "from sklearn import linear_model\n",
    "from sklearn.cross_validation import train_test_split\n",
    "from sklearn import preprocessing\n",
    "from sklearn.ensemble import GradientBoostingRegressor\n",
    "from sklearn.metrics import mean_squared_error"
   ]
  },
  {
   "cell_type": "code",
   "execution_count": 2,
   "metadata": {
    "collapsed": true
   },
   "outputs": [],
   "source": [
    "def gini(solution, submission):\n",
    "    df = zip(solution, submission)\n",
    "    df = sorted(df, key=lambda x: (x[1],x[0]), reverse=True)\n",
    "    rand = [float(i+1)/float(len(df)) for i in range(len(df))]\n",
    "    totalPos = float(sum([x[0] for x in df]))\n",
    "    cumPosFound = [df[0][0]]\n",
    "    for i in range(1,len(df)):\n",
    "        cumPosFound.append(cumPosFound[len(cumPosFound)-1] + df[i][0])\n",
    "    Lorentz = [float(x)/totalPos for x in cumPosFound]\n",
    "    Gini = [Lorentz[i]-rand[i] for i in range(len(df))]\n",
    "    return sum(Gini)\n",
    "\n",
    "def normalized_gini(solution, submission):\n",
    "    solution=np.array(solution)\n",
    "    submission=np.array(submission)\n",
    "    normalized_gini = gini(solution, submission)/gini(solution, solution)\n",
    "    return normalized_gini"
   ]
  },
  {
   "cell_type": "code",
   "execution_count": 3,
   "metadata": {
    "collapsed": true
   },
   "outputs": [],
   "source": [
    "train_df = pd.read_csv(\"data/train.csv\", index_col=0)\n",
    "test_df = pd.read_csv(\"data/test.csv\", index_col=0)"
   ]
  },
  {
   "cell_type": "code",
   "execution_count": 4,
   "metadata": {
    "collapsed": false
   },
   "outputs": [],
   "source": [
    "labels = train_df.Hazard\n",
    "train_df.drop('Hazard', axis=1, inplace=True)\n",
    "test_indices = test_df.index"
   ]
  },
  {
   "cell_type": "code",
   "execution_count": 5,
   "metadata": {
    "collapsed": true
   },
   "outputs": [],
   "source": [
    "train = np.array(train_df)\n",
    "test = np.array(test_df)"
   ]
  },
  {
   "cell_type": "code",
   "execution_count": 6,
   "metadata": {
    "collapsed": false
   },
   "outputs": [
    {
     "data": {
      "text/plain": [
       "array([[15, 3, 2, ..., 'E', 2, 2],\n",
       "       [16, 14, 5, ..., 'E', 2, 1],\n",
       "       [10, 10, 5, ..., 'E', 6, 1],\n",
       "       ..., \n",
       "       [18, 7, 5, ..., 'E', 1, 1],\n",
       "       [18, 17, 5, ..., 'C', 2, 6],\n",
       "       [5, 15, 3, ..., 'E', 5, 4]], dtype=object)"
      ]
     },
     "execution_count": 6,
     "metadata": {},
     "output_type": "execute_result"
    }
   ],
   "source": [
    "train"
   ]
  },
  {
   "cell_type": "code",
   "execution_count": 7,
   "metadata": {
    "collapsed": false
   },
   "outputs": [],
   "source": [
    "# label encode the categorical variables\n",
    "for i in range(train.shape[1]):\n",
    "    if type(train[1,i]) is str:\n",
    "        lbl = preprocessing.LabelEncoder()\n",
    "        lbl.fit(list(train[:,i]) + list(test[:,i]))\n",
    "        train[:,i] = lbl.transform(train[:,i])\n",
    "        test[:,i] = lbl.transform(test[:,i])"
   ]
  },
  {
   "cell_type": "code",
   "execution_count": 8,
   "metadata": {
    "collapsed": false
   },
   "outputs": [],
   "source": [
    "train = train.astype(float)\n",
    "test = test.astype(float)"
   ]
  },
  {
   "cell_type": "code",
   "execution_count": 17,
   "metadata": {
    "collapsed": false
   },
   "outputs": [
    {
     "data": {
      "text/plain": [
       "array([ 15.,   3.,   2.,   5.,   1.,   0.,   1.,   1.,   2.,   7.,   1.,\n",
       "         1.,  15.,   1.,   0.,   1.,   0.,  36.,  11.,   0.,  10.,   1.,\n",
       "         2.,  37.,   1.,  11.,   6.,   1.,   0.,   4.,   2.,   2.])"
      ]
     },
     "execution_count": 17,
     "metadata": {},
     "output_type": "execute_result"
    }
   ],
   "source": [
    "train[0]"
   ]
  },
  {
   "cell_type": "code",
   "execution_count": 10,
   "metadata": {
    "collapsed": true
   },
   "outputs": [],
   "source": [
    "train_x, test_x, train_y, test_y = train_test_split(train, labels, test_size=.2)"
   ]
  },
  {
   "cell_type": "code",
   "execution_count": 11,
   "metadata": {
    "collapsed": false
   },
   "outputs": [
    {
     "name": "stdout",
     "output_type": "stream",
     "text": [
      "0.299164495946\n",
      "0.324489965009\n"
     ]
    }
   ],
   "source": [
    "clf = GradientBoostingRegressor(n_estimators=100, learning_rate=0.1, \n",
    "                                      max_depth=1, random_state=0, loss='ls').fit(train_x, train_y)\n",
    "mean_squared_error(test_y, clf.predict(test_x))\n",
    "\n",
    "predictor_test = clf.predict(test_x)\n",
    "predictor_train = clf.predict(train_x)\n",
    "\n",
    "print normalized_gini(train_y, predictor_train)\n",
    "print normalized_gini(test_y, predictor_test)"
   ]
  },
  {
   "cell_type": "code",
   "execution_count": 12,
   "metadata": {
    "collapsed": false
   },
   "outputs": [],
   "source": [
    "predictors = clf.predict(test)\n",
    "preds = pd.DataFrame({\"Id\": test_indices, \"Hazard\": predictors})\n",
    "preds = preds.set_index('Id')\n",
    "preds.to_csv('gradboosting_regression.csv')"
   ]
  },
  {
   "cell_type": "code",
   "execution_count": 33,
   "metadata": {
    "collapsed": false
   },
   "outputs": [
    {
     "name": "stdout",
     "output_type": "stream",
     "text": [
      "[ 7  1  0  3  8 25 11 14 15 20  2  4 13 10 31  9 29 28  5  6 27 26 22 21 12\n",
      " 23 30 16 17 18 19 24]\n"
     ]
    }
   ],
   "source": [
    "importances = clf.feature_importances_\n",
    "indices = np.argsort(importances)[::-1]\n",
    "print indices"
   ]
  },
  {
   "cell_type": "code",
   "execution_count": null,
   "metadata": {
    "collapsed": false,
    "scrolled": false
   },
   "outputs": [],
   "source": [
    "plt.figure()\n",
    "plt.title(\"Feature importances\")\n",
    "plt.bar(range(32), importances[indices], color=\"r\", align=\"center\")\n",
    "plt.xticks(range(32), indices)\n",
    "plt.xlim([-1, 32])\n",
    "plt.show()"
   ]
  },
  {
   "cell_type": "code",
   "execution_count": null,
   "metadata": {
    "collapsed": true
   },
   "outputs": [],
   "source": []
  }
 ],
 "metadata": {
  "kernelspec": {
   "display_name": "Python 2",
   "language": "python",
   "name": "python2"
  },
  "language_info": {
   "codemirror_mode": {
    "name": "ipython",
    "version": 2
   },
   "file_extension": ".py",
   "mimetype": "text/x-python",
   "name": "python",
   "nbconvert_exporter": "python",
   "pygments_lexer": "ipython2",
   "version": "2.7.9"
  }
 },
 "nbformat": 4,
 "nbformat_minor": 0
}
