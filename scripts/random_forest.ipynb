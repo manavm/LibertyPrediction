{
 "cells": [
  {
   "cell_type": "code",
   "execution_count": 1,
   "metadata": {
    "collapsed": true
   },
   "outputs": [],
   "source": [
    "import pandas as pd\n",
    "from sklearn.ensemble import RandomForestRegressor as RF\n",
    "\n",
    "#read the data\n",
    "train = pd.read_csv('../data/train.csv')\n",
    "test = pd.read_csv('../data/test.csv')\n",
    "\n",
    "#we'll modify the sample submission file to make our submission\n",
    "submission = pd.read_csv('../data/sample_submission.csv')\n",
    "\n",
    "#prep the data for sklearn by separating predictors and response\n",
    "X = train.drop('Hazard', axis = 1)\n",
    "y = train['Hazard']\n",
    "\n",
    "#one-hot the categoricals\n",
    "num_X = pd.get_dummies(X)\n",
    "num_Xt = pd.get_dummies(test)\n",
    "\n",
    "#fit the model and predict\n",
    "model = RF().fit(num_X,y)\n",
    "prediction = model.predict(num_Xt)\n",
    "\n",
    "#write the submission file\n",
    "submission['Hazard'] = prediction\n",
    "submission.to_csv('basic_RF.csv', index = False)"
   ]
  },
  {
   "cell_type": "code",
   "execution_count": 3,
   "metadata": {
    "collapsed": false
   },
   "outputs": [
    {
     "name": "stderr",
     "output_type": "stream",
     "text": [
      "[Parallel(n_jobs=1)]: Done   1 jobs       | elapsed:    0.7s\n",
      "[Parallel(n_jobs=1)]: Done  50 jobs       | elapsed:   40.0s\n",
      "[Parallel(n_jobs=1)]: Done 200 jobs       | elapsed:  2.6min\n",
      "[Parallel(n_jobs=1)]: Done 450 jobs       | elapsed:  6.6min\n",
      "[Parallel(n_jobs=1)]: Done 500 out of 500 | elapsed:  7.5min finished\n",
      "[Parallel(n_jobs=1)]: Done   1 jobs       | elapsed:    0.1s\n",
      "[Parallel(n_jobs=1)]: Done  50 jobs       | elapsed:    2.5s\n",
      "[Parallel(n_jobs=1)]: Done 200 jobs       | elapsed:    6.8s\n",
      "[Parallel(n_jobs=1)]: Done 450 jobs       | elapsed:   14.1s\n",
      "[Parallel(n_jobs=1)]: Done 500 out of 500 | elapsed:   15.2s finished\n"
     ]
    }
   ],
   "source": [
    "import pandas as pd\n",
    "from sklearn import preprocessing\n",
    "from sklearn.utils import shuffle\n",
    "import numpy as np\n",
    "\n",
    "from sklearn.ensemble import RandomForestRegressor\n",
    "\n",
    "FTRAIN = \"../data/train.csv\"\n",
    "FTEST = \"../data/test.csv\"\n",
    "\n",
    "preprocessing_columns = ['T1_V4', 'T1_V5', 'T1_V6', 'T1_V7', 'T1_V8', 'T1_V9', 'T1_V11', 'T1_V12', 'T1_V15', 'T1_V16', 'T1_V17', 'T2_V3', 'T2_V5', 'T2_V11', 'T2_V12', 'T2_V13']\n",
    "\n",
    "def LoadData(test = False, suffle=False) :\n",
    "    fName = FTEST if test else FTRAIN\n",
    "    df = pd.read_csv(fName, header = 0)\n",
    "    df = df.drop(['Id'], axis=1)\n",
    "    le = preprocessing.LabelEncoder()\n",
    "    for column in preprocessing_columns :\n",
    "        df[column + '_new'] = le.fit_transform(df[column])\n",
    "    df = df.drop(preprocessing_columns, axis=1)\n",
    "    if not test :\n",
    "        y = df['Hazard'].values\n",
    "        X = df.drop(['Hazard'], axis = 1).values\n",
    "        if suffle :\n",
    "            X, y = shuffle(X, y, random_state=42)\n",
    "    else :\n",
    "        X = df.values\n",
    "        y = None\n",
    "    X = X.astype(np.float32)\n",
    "    X = preprocessing.MinMaxScaler().fit_transform(X)\n",
    "    return X, y\n",
    "    \n",
    "def convertInt(x):\n",
    "    try:\n",
    "        return x.astype(int)\n",
    "    except:\n",
    "        return x\n",
    "\n",
    "if __name__ == '__main__' :\n",
    "    X, Y = LoadData() \n",
    "    estimator = 500\n",
    "    clf = RandomForestRegressor(n_estimators=estimator, verbose=1)\n",
    "    clf.fit(X, Y)\n",
    "    Xtest, y = LoadData(test = True)\n",
    "    YPred = clf.predict(Xtest)\n",
    "    Idtest = pd.read_csv(FTEST,header = 0)\n",
    "    Idtest = Idtest['Id'].values\n",
    "    output = pd.DataFrame(np.column_stack((Idtest, YPred)), columns = ['Id', 'Hazard'])\n",
    "    output['Id'] = output['Id'].apply(convertInt)\n",
    "    output.to_csv(\"RandomForest\" + str(estimator) + \".csv\", index = False)\n"
   ]
  },
  {
   "cell_type": "code",
   "execution_count": null,
   "metadata": {
    "collapsed": true
   },
   "outputs": [],
   "source": []
  }
 ],
 "metadata": {
  "kernelspec": {
   "display_name": "Python 2",
   "language": "python",
   "name": "python2"
  },
  "language_info": {
   "codemirror_mode": {
    "name": "ipython",
    "version": 2
   },
   "file_extension": ".py",
   "mimetype": "text/x-python",
   "name": "python",
   "nbconvert_exporter": "python",
   "pygments_lexer": "ipython2",
   "version": "2.7.6"
  }
 },
 "nbformat": 4,
 "nbformat_minor": 0
}
